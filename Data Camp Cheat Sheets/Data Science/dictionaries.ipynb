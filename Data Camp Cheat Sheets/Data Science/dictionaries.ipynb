{
 "cells": [
  {
   "cell_type": "code",
   "execution_count": 100,
   "metadata": {},
   "outputs": [
    {
     "name": "stdout",
     "output_type": "stream",
     "text": [
      "berlin\n"
     ]
    }
   ],
   "source": [
    "#  Dictionaries connect key:value pairs in python\n",
    "\n",
    "countries = ['spain', 'france', 'germany', 'norway'] # keys\n",
    "capitals = ['madrid', 'paris', 'berlin', 'oslo'] # values\n",
    "\n",
    "# not a dictionary - get the index of germany from countries\n",
    "ind_ger = countries.index('germany')\n",
    "\n",
    "print(capitals[ind_ger])"
   ]
  },
  {
   "cell_type": "code",
   "execution_count": 101,
   "metadata": {},
   "outputs": [
    {
     "name": "stdout",
     "output_type": "stream",
     "text": [
      "{'spain': 'madrid', 'france': 'paris', 'germany': 'berlin', 'norway': 'oslo'}\n"
     ]
    }
   ],
   "source": [
    "# Creating dictionaries\n",
    "\n",
    "europe = {'spain':'madrid', 'france':'paris','germany':'berlin','norway':'oslo'} # keys:values pair - country and capital\n",
    "\n",
    "print(europe)"
   ]
  },
  {
   "cell_type": "code",
   "execution_count": 102,
   "metadata": {},
   "outputs": [
    {
     "name": "stdout",
     "output_type": "stream",
     "text": [
      "dict_keys(['spain', 'france', 'germany', 'norway'])\n",
      "dict_values(['madrid', 'paris', 'berlin', 'oslo'])\n",
      "oslo\n"
     ]
    }
   ],
   "source": [
    "#Print out keys and value in europe\n",
    "\n",
    "print(europe.keys()) # returns keys from dict - keys should be unique\n",
    "print(europe.values()) # returns values associated to keys from dict\n",
    "\n",
    "print(europe['norway']) # returns value from norway - oslo"
   ]
  },
  {
   "cell_type": "code",
   "execution_count": 103,
   "metadata": {},
   "outputs": [
    {
     "name": "stdout",
     "output_type": "stream",
     "text": [
      "{'spain': 'madrid', 'france': 'paris', 'germany': 'berlin', 'norway': 'oslo', 'italy': 'rome', 'poland': 'Warsaw'}\n"
     ]
    }
   ],
   "source": [
    "# adding data to an existing dictionary\n",
    "\n",
    "europe['italy'] = 'rome'\n",
    "\n",
    "europe['poland'] = 'warsaw'\n",
    "\n",
    "europe['australia'] = 'vienna'\n",
    "\n",
    "\n",
    "#editing elements from a dictionary\n",
    "\n",
    "europe['poland'] = 'Warsaw'\n",
    "\n",
    "#deleting elements from a dictionary\n",
    "\n",
    "del(europe['australia'])\n",
    "\n",
    "print(europe)"
   ]
  },
  {
   "cell_type": "code",
   "execution_count": 104,
   "metadata": {},
   "outputs": [
    {
     "name": "stdout",
     "output_type": "stream",
     "text": [
      "{'spain': {'capital': 'madrid', 'population': '46.77'}, 'france': {'capital': 'paris', 'population': '66.03'}, 'germany': {'capital': 'berlin', 'population': '80.62'}, 'norway': {'capital': 'oslo', 'population': '5.084'}, 'italy': {'capital': 'rome', 'population': 59.83}}\n",
      "madrid\n"
     ]
    }
   ],
   "source": [
    "#dictionary of dictionaries\n",
    "\n",
    "# columns country, capital, population\n",
    "europe_2 = { 'spain': { 'capital':'madrid', 'population':'46.77' },\n",
    "           'france': { 'capital':'paris', 'population':'66.03' },\n",
    "           'germany': { 'capital':'berlin', 'population':'80.62' },\n",
    "           'norway': { 'capital':'oslo', 'population':'5.084' } } \n",
    "\n",
    "\n",
    "# data for italy\n",
    "data = {'capital':'rome', 'population': 59.83}\n",
    "\n",
    "# append italy\n",
    "europe_2['italy'] = data\n",
    "\n",
    "print(europe_2)\n",
    "\n",
    "# return capital of spain\n",
    "print(europe_2['spain']['capital'])"
   ]
  },
  {
   "cell_type": "code",
   "execution_count": 105,
   "metadata": {},
   "outputs": [
    {
     "name": "stdout",
     "output_type": "stream",
     "text": [
      "default row labels\n",
      "         country  drives_right  cars_per_cap\n",
      "0  United States          True           809\n",
      "1      Australia         False           731\n",
      "2          Japan         False           588\n",
      "3          India         False            18\n",
      "4         Russia          True           200\n",
      "5        Morocco          True            70\n",
      "6          Egypt          True            45\n",
      "Replaced row labels\n",
      "           country  drives_right  cars_per_cap\n",
      "US   United States          True           809\n",
      "AUS      Australia         False           731\n",
      "JPN          Japan         False           588\n",
      "IN           India         False            18\n",
      "RU          Russia          True           200\n",
      "MOR        Morocco          True            70\n",
      "EG           Egypt          True            45\n"
     ]
    },
    {
     "data": {
      "text/plain": [
       "<function print>"
      ]
     },
     "execution_count": 105,
     "metadata": {},
     "output_type": "execute_result"
    }
   ],
   "source": [
    "# creating pandas dataframe from dictionaries\n",
    "\n",
    "names = ['United States', 'Australia', 'Japan', 'India', 'Russia', 'Morocco', 'Egypt']\n",
    "dr = [True, False, False, False, True, True, True]\n",
    "cpc =  [809, 731, 588, 18, 200, 70, 45]\n",
    "\n",
    "\n",
    "# convert variables to dictionary\n",
    "\n",
    "dict = {'country': names,\n",
    "        'drives_right': dr,\n",
    "        'cars_per_cap': cpc}\n",
    "\n",
    "# import pandas library\n",
    "\n",
    "import pandas as pd\n",
    "\n",
    "cars = pd.DataFrame(dict)\n",
    "\n",
    "print('default row labels') # shows default row series of dataframe\n",
    "print(cars)\n",
    "\n",
    "row_labels = ['US', 'AUS', 'JPN', 'IN', 'RU', 'MOR', 'EG'] # row labels to replace the default series for rows\n",
    "\n",
    "cars.index = row_labels # assign row labels\n",
    "\n",
    "print('Replaced row labels')\n",
    "print(cars)\n",
    "print"
   ]
  },
  {
   "cell_type": "code",
   "execution_count": 106,
   "metadata": {},
   "outputs": [
    {
     "name": "stdout",
     "output_type": "stream",
     "text": [
      "US     United States\n",
      "AUS        Australia\n",
      "JPN            Japan\n",
      "IN             India\n",
      "RU            Russia\n",
      "MOR          Morocco\n",
      "EG             Egypt\n",
      "Name: country, dtype: object\n"
     ]
    }
   ],
   "source": [
    "# accessing rows and columns in dataframes\n",
    "\n",
    "print(cars['country']) # returns as a pandas series\n",
    "\n"
   ]
  },
  {
   "cell_type": "code",
   "execution_count": 107,
   "metadata": {},
   "outputs": [
    {
     "name": "stdout",
     "output_type": "stream",
     "text": [
      "country         United States\n",
      "drives_right             True\n",
      "cars_per_cap              809\n",
      "Name: US, dtype: object\n"
     ]
    }
   ],
   "source": [
    "# accessing rows through indexing row labels with loc\n",
    "\n",
    "print(cars.loc['US']) # returns series dtype for dataframe"
   ]
  },
  {
   "cell_type": "code",
   "execution_count": 108,
   "metadata": {},
   "outputs": [
    {
     "name": "stdout",
     "output_type": "stream",
     "text": [
      "          country  drives_right\n",
      "RU         Russia          True\n",
      "US  United States          True\n",
      "           country  drives_right\n",
      "US   United States          True\n",
      "AUS      Australia         False\n",
      "JPN          Japan         False\n",
      "IN           India         False\n",
      "RU          Russia          True\n",
      "MOR        Morocco          True\n",
      "EG           Egypt          True\n"
     ]
    }
   ],
   "source": [
    "print(cars.loc[['RU','US'],['country','drives_right']]) # returns intersection of the rows and columns\n",
    "\n",
    "print(cars.loc[:,['country', 'drives_right']]) # returns all rows and selected columns"
   ]
  }
 ],
 "metadata": {
  "kernelspec": {
   "display_name": "Python 3.9.13 ('base')",
   "language": "python",
   "name": "python3"
  },
  "language_info": {
   "codemirror_mode": {
    "name": "ipython",
    "version": 3
   },
   "file_extension": ".py",
   "mimetype": "text/x-python",
   "name": "python",
   "nbconvert_exporter": "python",
   "pygments_lexer": "ipython3",
   "version": "3.9.13 (main, Aug 25 2022, 23:51:50) [MSC v.1916 64 bit (AMD64)]"
  },
  "orig_nbformat": 4,
  "vscode": {
   "interpreter": {
    "hash": "88279d2366fe020547cde40dd65aa0e3aa662a6ec1f3ca12d88834876c85e1a6"
   }
  }
 },
 "nbformat": 4,
 "nbformat_minor": 2
}
