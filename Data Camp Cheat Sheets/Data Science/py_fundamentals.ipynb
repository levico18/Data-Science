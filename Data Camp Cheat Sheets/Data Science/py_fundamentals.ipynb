{
 "cells": [
  {
   "cell_type": "code",
   "execution_count": 5,
   "metadata": {},
   "outputs": [
    {
     "name": "stdout",
     "output_type": "stream",
     "text": [
      "['a', 'b', 'c', 'd', 'e', 'f']\n",
      "[1, 'a', 3, 'd']\n",
      "[['Leo', 25], ['Princess', 24]]\n",
      "[['a', 'b', 'c', 'd', 'e', 'f'], [1, 'a', 3, 'd']]\n",
      "<class 'list'>\n"
     ]
    }
   ],
   "source": [
    "# Lists\n",
    "\n",
    "# can contain different data types and can contain sub-lists stored in smaller square brackets\n",
    "\n",
    "list1 = ['a','b','c','d','e','f']\n",
    "\n",
    "#any data type\n",
    "\n",
    "list2 = [1,'a',3,'d']\n",
    "\n",
    "# sublists\n",
    "\n",
    "list3 = [['Leo', 25], ['Princess',24]]\n",
    "\n",
    "list4 = [list1,list2]\n",
    "\n",
    "print(list1)\n",
    "print(list2)\n",
    "print(list3)\n",
    "print(list4)\n",
    "\n",
    "# determining type\n",
    "\n",
    "print(type(list4))"
   ]
  },
  {
   "cell_type": "code",
   "execution_count": 12,
   "metadata": {},
   "outputs": [
    {
     "name": "stdout",
     "output_type": "stream",
     "text": [
      "d\n",
      "d\n",
      "[1, 'a', 3]\n",
      "[['Leo', 25], ['Princess', 24]]\n"
     ]
    }
   ],
   "source": [
    "# accessing lists through indexing and slicing\n",
    "\n",
    "#indexing start at 0 from the left, with -1 from the right\n",
    "print(list1[3])\n",
    "print(list2[-1])\n",
    "\n",
    "#slicing by specifying a range with : - where 'list[inclusive:exclusive]\n",
    "\n",
    "print(list2[0:3])\n",
    "print(list3[:3])"
   ]
  },
  {
   "cell_type": "code",
   "execution_count": 15,
   "metadata": {},
   "outputs": [
    {
     "name": "stdout",
     "output_type": "stream",
     "text": [
      "4\n"
     ]
    }
   ],
   "source": [
    "#aggregation with lists through indexing\n",
    "\n",
    "sum_list = (list2[0] + list2[2])\n",
    "print(sum_list)"
   ]
  },
  {
   "cell_type": "code",
   "execution_count": 21,
   "metadata": {},
   "outputs": [
    {
     "data": {
      "text/plain": [
       "['hallway',\n",
       " 11.25,\n",
       " 'kitchen',\n",
       " 18.0,\n",
       " 'chill zone',\n",
       " 20.0,\n",
       " 'bedroom',\n",
       " 10.75,\n",
       " 'bathroom',\n",
       " 10.5,\n",
       " 'poolhouse',\n",
       " 24.5,\n",
       " 'garage',\n",
       " 15.45]"
      ]
     },
     "execution_count": 21,
     "metadata": {},
     "output_type": "execute_result"
    }
   ],
   "source": [
    "# manipulating lists to  to add, remove, edit elements\n",
    "\n",
    "areas = [\"hallway\", 11.25, \"kitchen\", 18.0, \"living room\", 20.0, \"bedroom\", 10.75, \"bathroom\", 9.50]\n",
    "\n",
    "#correcting areas\n",
    "\n",
    "areas[-1] = 10.50\n",
    "\n",
    "areas[4] = 'chill zone'\n",
    "\n",
    "# adding areas\n",
    "\n",
    "areas_1 = areas + ['poolhouse', 24.5] + ['garage',15.45]\n",
    "\n",
    "areas_1\n"
   ]
  },
  {
   "cell_type": "code",
   "execution_count": 22,
   "metadata": {},
   "outputs": [
    {
     "data": {
      "text/plain": [
       "[5,\n",
       " 11.25,\n",
       " 'kitchen',\n",
       " 18.0,\n",
       " 'chill zone',\n",
       " 20.0,\n",
       " 'bedroom',\n",
       " 10.75,\n",
       " 'bathroom',\n",
       " 10.5,\n",
       " 'poolhouse',\n",
       " 24.5,\n",
       " 'garage',\n",
       " 15.45]"
      ]
     },
     "execution_count": 22,
     "metadata": {},
     "output_type": "execute_result"
    }
   ],
   "source": [
    "# creating lists from lists\n",
    "\n",
    "areas_copy = list(areas_1) # this creates another copy of the areas list with the function 'list'\n",
    "\n",
    "areas_copy[0] = 5\n",
    "\n",
    "areas_copy"
   ]
  },
  {
   "cell_type": "code",
   "execution_count": 36,
   "metadata": {},
   "outputs": [
    {
     "name": "stdout",
     "output_type": "stream",
     "text": [
      "Help on built-in function round in module builtins:\n",
      "\n",
      "round(number, ndigits=None)\n",
      "    Round a number to a given precision in decimal digits.\n",
      "    \n",
      "    The return value is an integer if ndigits is omitted or None.  Otherwise\n",
      "    the return value has the same type as the number.  ndigits may be negative.\n",
      "\n",
      "[20.0, 18.0, 11.25, 10.75, 9.5]\n",
      "20.0\n",
      "9.5\n"
     ]
    }
   ],
   "source": [
    "#built-in functions with python\n",
    "\n",
    "# open up documentation\n",
    "\n",
    "help(round)\n",
    "\n",
    "# one built-in function\n",
    "\n",
    "first = [11.25, 18.0, 20.0]\n",
    "second = [10.75, 9.50]\n",
    "\n",
    "full = first + second\n",
    "\n",
    "max_full = max(full)\n",
    "min_full = min(full)\n",
    " \n",
    "# sort descending\n",
    "\n",
    "full_sorted = sorted(full, reverse= True)\n",
    "\n",
    "print(full_sorted)\n",
    "print(max_full)\n",
    "print(min_full)\n"
   ]
  },
  {
   "cell_type": "code",
   "execution_count": 41,
   "metadata": {},
   "outputs": [
    {
     "name": "stdout",
     "output_type": "stream",
     "text": [
      "1\n",
      "1\n"
     ]
    }
   ],
   "source": [
    "# python methods specific for data types\n",
    "\n",
    "#list methods\n",
    "\n",
    "# ie index() - returns the index number of an element\n",
    "\n",
    "print(list1.index('b'))\n",
    "\n",
    "# i.e. count()\n",
    "\n",
    "print(list1.count('a'))"
   ]
  },
  {
   "cell_type": "code",
   "execution_count": 45,
   "metadata": {},
   "outputs": [
    {
     "name": "stdout",
     "output_type": "stream",
     "text": [
      "POOLHOUSE\n",
      "3\n"
     ]
    }
   ],
   "source": [
    "# string methods\n",
    "\n",
    "#capitalizing\n",
    "place = 'poolhouse'\n",
    "\n",
    "place_upper = place.upper()\n",
    "\n",
    "print(place_upper)\n",
    "print(place.count('o'))"
   ]
  }
 ],
 "metadata": {
  "kernelspec": {
   "display_name": "Python 3.9.13 ('base')",
   "language": "python",
   "name": "python3"
  },
  "language_info": {
   "codemirror_mode": {
    "name": "ipython",
    "version": 3
   },
   "file_extension": ".py",
   "mimetype": "text/x-python",
   "name": "python",
   "nbconvert_exporter": "python",
   "pygments_lexer": "ipython3",
   "version": "3.9.13 (main, Aug 25 2022, 23:51:50) [MSC v.1916 64 bit (AMD64)]"
  },
  "orig_nbformat": 4,
  "vscode": {
   "interpreter": {
    "hash": "88279d2366fe020547cde40dd65aa0e3aa662a6ec1f3ca12d88834876c85e1a6"
   }
  }
 },
 "nbformat": 4,
 "nbformat_minor": 2
}
