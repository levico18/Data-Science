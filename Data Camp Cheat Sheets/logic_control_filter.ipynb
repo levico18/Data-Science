{
 "cells": [
  {
   "cell_type": "code",
   "execution_count": 98,
   "metadata": {},
   "outputs": [],
   "source": [
    "#Logic, control, and filtering"
   ]
  },
  {
   "cell_type": "code",
   "execution_count": 99,
   "metadata": {},
   "outputs": [
    {
     "name": "stdout",
     "output_type": "stream",
     "text": [
      "False\n",
      "True\n",
      "False\n",
      "False\n",
      "False\n",
      "True\n",
      "True\n"
     ]
    }
   ],
   "source": [
    "# Comparison of integers\n",
    "x = -3 * 6\n",
    "\n",
    "# Comparison of strings\n",
    "y = \"test\"\n",
    "\n",
    "# Comparison of booleans\n",
    "print(True == False)\n",
    "\n",
    "# Comparison of integers\n",
    "print(-5 * 15 != 75)\n",
    "\n",
    "# Comparison of strings\n",
    "print(\"pyscript\" == \"PyScript\") # case sensitive\n",
    "\n",
    "# Compare a boolean with an integer\n",
    "print(True == 10) # true is equal to 1\n",
    "\n",
    "# Comparison of booleans\n",
    "print(x >= -10)\n",
    "print(\"test\" <= y)\n",
    "print(True > False)"
   ]
  },
  {
   "cell_type": "code",
   "execution_count": 100,
   "metadata": {},
   "outputs": [
    {
     "name": "stdout",
     "output_type": "stream",
     "text": [
      "[ True  True False False]\n",
      "[False  True  True False]\n"
     ]
    }
   ],
   "source": [
    "# comparison between arrays\n",
    "\n",
    "# Create arrays\n",
    "import numpy as np\n",
    "my_house = np.array([18.0, 20.0, 10.75, 9.50])\n",
    "your_house = np.array([14.0, 24.0, 14.25, 9.0])\n",
    "\n",
    "# my_house greater than or equal to 18\n",
    "print(my_house >= 18)\n",
    "\n",
    "# my_house less than your_house\n",
    "print(my_house < your_house) "
   ]
  },
  {
   "cell_type": "code",
   "execution_count": 101,
   "metadata": {},
   "outputs": [
    {
     "name": "stdout",
     "output_type": "stream",
     "text": [
      "True\n",
      "False\n",
      "True\n",
      "False\n"
     ]
    }
   ],
   "source": [
    "# boolean operators\n",
    "\n",
    "# and operator\n",
    "print(True and True) # true and true returns true, else false\n",
    "print(True and False)\n",
    "\n",
    "x = 12\n",
    "\n",
    "print(x > 5 and x < 15) # True and True returns true, else false\n",
    "print(x > 13 and x < 15) # false and true"
   ]
  },
  {
   "cell_type": "code",
   "execution_count": 102,
   "metadata": {},
   "outputs": [
    {
     "name": "stdout",
     "output_type": "stream",
     "text": [
      "False\n",
      "True\n",
      "True\n"
     ]
    }
   ],
   "source": [
    "# or operator\n",
    "\n",
    "print(False or False) # only false or false returns false\n",
    "print(True or False) # returns true\n",
    "\n",
    "y = 5\n",
    "\n",
    "print(y < 7 or y > 13) # true and false = true"
   ]
  },
  {
   "cell_type": "code",
   "execution_count": 103,
   "metadata": {},
   "outputs": [],
   "source": [
    "# not operator - used for negating results"
   ]
  },
  {
   "cell_type": "code",
   "execution_count": 104,
   "metadata": {},
   "outputs": [
    {
     "name": "stdout",
     "output_type": "stream",
     "text": [
      "[ True False  True  True  True]\n",
      "[ True  True  True False  True]\n",
      "[ True False  True False  True]\n",
      "[21.85 21.75 21.44]\n"
     ]
    }
   ],
   "source": [
    "# numpy equivalent of boolean operators\n",
    "\n",
    "bmi = np.array([21.85, 20.96, 21.75, 24.75, 21.44])\n",
    "\n",
    "print(bmi > 21)\n",
    "print(bmi < 22)\n",
    "#print(bmi > 21 and bmi < 22) # returns an error\n",
    "\n",
    "#application of numpy boolean operators equivalent\n",
    "\n",
    "print(np.logical_and(bmi > 21, bmi < 22)) # returns boolean\n",
    "print(bmi[np.logical_and(bmi > 21, bmi < 22)]) # returns values"
   ]
  },
  {
   "cell_type": "code",
   "execution_count": 105,
   "metadata": {},
   "outputs": [
    {
     "name": "stdout",
     "output_type": "stream",
     "text": [
      "False\n",
      "True\n",
      "True\n"
     ]
    }
   ],
   "source": [
    "# Define variables\n",
    "my_kitchen = 18.0\n",
    "your_kitchen = 14.0\n",
    "\n",
    "# my_kitchen bigger than 10 and smaller than 18?\n",
    "print(my_kitchen > 10 and my_kitchen < 18) # true and false\n",
    "\n",
    "# my_kitchen smaller than 14 or bigger than 17?\n",
    "print(my_kitchen < 14 or my_kitchen > 17) # false and false\n",
    "\n",
    "# Double my_kitchen smaller than triple your_kitchen?\n",
    "print( 2 * my_kitchen < 3 * your_kitchen) # 36 < 42 = True"
   ]
  },
  {
   "cell_type": "code",
   "execution_count": 106,
   "metadata": {},
   "outputs": [
    {
     "name": "stdout",
     "output_type": "stream",
     "text": [
      "False\n"
     ]
    }
   ],
   "source": [
    "x_1 = 8\n",
    "y_1 = 9\n",
    "\n",
    "print(not(not(x < 3) and not(y > 14 or y > 10)))\n",
    "            #false to true         false and false returns false to true\n",
    "            #true and true\n",
    "            # final is false\n",
    "            "
   ]
  },
  {
   "cell_type": "code",
   "execution_count": 107,
   "metadata": {},
   "outputs": [
    {
     "name": "stdout",
     "output_type": "stream",
     "text": [
      "[False  True False  True]\n",
      "[False False False  True]\n"
     ]
    }
   ],
   "source": [
    "my_house1 = np.array([18.0, 20.0, 10.75, 9.50])\n",
    "your_house1 = np.array([14.0, 24.0, 14.25, 9.0])\n",
    "\n",
    "# my_house greater than 18.5 or smaller than 10\n",
    "print(np.logical_or(my_house1 > 18.5, my_house1 < 10))\n",
    "\n",
    "# Both my_house and your_house smaller than 11\n",
    "print(np.logical_and(my_house1 < 11, your_house1 < 11))\n"
   ]
  },
  {
   "cell_type": "code",
   "execution_count": 108,
   "metadata": {},
   "outputs": [
    {
     "name": "stdout",
     "output_type": "stream",
     "text": [
      "z is odd\n"
     ]
    }
   ],
   "source": [
    "# if, elif, else\n",
    "\n",
    "z = 5\n",
    "\n",
    "if z % 4 == 0: # False\n",
    "    print('z is even')\n",
    "else:\n",
    "    print('z is odd')"
   ]
  },
  {
   "cell_type": "code",
   "execution_count": 109,
   "metadata": {},
   "outputs": [
    {
     "name": "stdout",
     "output_type": "stream",
     "text": [
      "         country    capital    area  population\n",
      "BR        Brazil   Brasilia   8.516      200.40\n",
      "RU        Russia     Moscow  17.100      143.50\n",
      "IN         India  New Delhi   3.286     1252.00\n",
      "CH         China    Beijing   9.597     1357.00\n",
      "SA  South Africa   Pretoria   1.221       52.98\n"
     ]
    }
   ],
   "source": [
    "# creating list variables for BRICS dictionary for example\n",
    "brics_label = ['BR','RU','IN','CH','SA']\n",
    "brics_names = ['Brazil','Russia','India','China','South Africa']\n",
    "brics_cap = ['Brasilia','Moscow','New Delhi','Beijing','Pretoria']\n",
    "brics_area =[8.516,17.100,3.286,9.597,1.221]\n",
    "brics_pop = [200.40,143.5,1252,1357,52.98]\n",
    "\n",
    "# convert variables to dictionary\n",
    "brics_dict = {\n",
    "        'country': brics_names,\n",
    "        'capital': brics_cap,\n",
    "        'area': brics_area,\n",
    "        'population': brics_pop}\n",
    "\n",
    "import pandas as pd\n",
    "\n",
    "brics = pd.DataFrame(brics_dict)\n",
    "\n",
    "brics.index = brics_label\n",
    "\n",
    "print(brics)\n",
    "\n"
   ]
  },
  {
   "cell_type": "code",
   "execution_count": 110,
   "metadata": {},
   "outputs": [
    {
     "name": "stdout",
     "output_type": "stream",
     "text": [
      "BR     True\n",
      "RU    False\n",
      "IN    False\n",
      "CH     True\n",
      "SA    False\n",
      "Name: area, dtype: bool\n",
      "   country   capital   area  population\n",
      "BR  Brazil  Brasilia  8.516       200.4\n",
      "CH   China   Beijing  9.597      1357.0\n"
     ]
    }
   ],
   "source": [
    "#filtering pandas dataframe\n",
    "\n",
    "#return only rows\n",
    "print(np.logical_and(brics['area']> 8,brics['area'] < 10))\n",
    "\n",
    "#return only rows satisfied the conditions in the df with numpy\n",
    "print(brics[np.logical_and(brics.area > 8,brics.area < 10)])\n"
   ]
  },
  {
   "cell_type": "code",
   "execution_count": 111,
   "metadata": {},
   "outputs": [
    {
     "name": "stdout",
     "output_type": "stream",
     "text": [
      "12.5\n",
      "3.125\n",
      "0.78125\n"
     ]
    }
   ],
   "source": [
    "error = 50\n",
    "while error > 1:\n",
    "    error = error / 4\n",
    "    print(error) # control stops performing until condition is not met"
   ]
  },
  {
   "cell_type": "code",
   "execution_count": 112,
   "metadata": {},
   "outputs": [
    {
     "name": "stdout",
     "output_type": "stream",
     "text": [
      "correcting...\n",
      "7\n",
      "correcting...\n",
      "6\n",
      "correcting...\n",
      "5\n",
      "correcting...\n",
      "4\n",
      "correcting...\n",
      "3\n",
      "correcting...\n",
      "2\n",
      "correcting...\n",
      "1\n",
      "correcting...\n",
      "0\n"
     ]
    }
   ],
   "source": [
    "offset = 8\n",
    "\n",
    "while offset != 0: # while loop for repetitions. Will continue until condition is met, otherwise code terminated\n",
    "    print('correcting...')\n",
    "    offset = offset - 1\n",
    "    print(offset)"
   ]
  },
  {
   "cell_type": "code",
   "execution_count": 113,
   "metadata": {},
   "outputs": [
    {
     "name": "stdout",
     "output_type": "stream",
     "text": [
      "correcting...\n",
      "-5\n",
      "correcting...\n",
      "-4\n",
      "correcting...\n",
      "-3\n",
      "correcting...\n",
      "-2\n",
      "correcting...\n",
      "-1\n",
      "correcting...\n",
      "0\n"
     ]
    }
   ],
   "source": [
    "# what if offset_1 is negative? integrate elif\n",
    "offset_1 = -6\n",
    "\n",
    "while offset_1 != 0:\n",
    "    print('correcting...')\n",
    "    if offset_1 > 0:\n",
    "        offset_1 = offset_1 - 1\n",
    "    elif offset_1 < 0:\n",
    "        offset_1 = offset_1 + 1\n",
    "    print(offset_1)"
   ]
  },
  {
   "cell_type": "code",
   "execution_count": 114,
   "metadata": {},
   "outputs": [
    {
     "name": "stdout",
     "output_type": "stream",
     "text": [
      "1.73\n",
      "1.68\n",
      "1.71\n",
      "1.89\n",
      "index 1: 1.73\n",
      "index 2: 1.68\n",
      "index 3: 1.71\n",
      "index 4: 1.89\n"
     ]
    }
   ],
   "source": [
    "#For Loop\n",
    "\n",
    "#syntax: for var in seq:\n",
    "    #expression\n",
    "\n",
    "    # for each variable in sequence, execute expression\n",
    "\n",
    "fam =  [1.73,1.68,1.71,1.89]\n",
    "\n",
    "for height in fam:\n",
    "    print(height) #until all heights are iterated and printed\n",
    "\n",
    "for index, height in enumerate(fam):\n",
    "    print('index ' + str(index + 1) + ': ' + str(height))"
   ]
  },
  {
   "cell_type": "code",
   "execution_count": 115,
   "metadata": {},
   "outputs": [
    {
     "name": "stdout",
     "output_type": "stream",
     "text": [
      "11.25\n",
      "18.0\n",
      "20.0\n",
      "10.75\n",
      "9.5\n"
     ]
    }
   ],
   "source": [
    "areas = [11.25, 18.0, 20.0, 10.75, 9.50]\n",
    "\n",
    "for area in areas: # area is arbritary\n",
    "    print(area)"
   ]
  },
  {
   "cell_type": "code",
   "execution_count": 117,
   "metadata": {},
   "outputs": [
    {
     "name": "stdout",
     "output_type": "stream",
     "text": [
      "room 1: 11.25\n",
      "room 2: 18.0\n",
      "room 3: 20.0\n",
      "room 4: 10.75\n",
      "room 5: 9.5\n"
     ]
    }
   ],
   "source": [
    "# using enumerate in for loop\n",
    "\n",
    "areas_1 = [11.25, 18.0, 20.0, 10.75, 9.50]\n",
    "\n",
    "for index,area in enumerate(areas): # returns index and values from areas_1 list \n",
    "    print('room ' + str(index + 1) + ': ' + str(area))"
   ]
  },
  {
   "cell_type": "code",
   "execution_count": 122,
   "metadata": {},
   "outputs": [
    {
     "name": "stdout",
     "output_type": "stream",
     "text": [
      "the hallway is 11.25 sqm.\n",
      "the kitchen is 18.0 sqm.\n",
      "the living room is 20.0 sqm.\n",
      "the bedroom is 10.75 sqm.\n",
      "the bathroom is 9.5 sqm.\n"
     ]
    }
   ],
   "source": [
    "# house list of list\n",
    "\n",
    "house = [[\"hallway\", 11.25], \n",
    "         [\"kitchen\", 18.0], \n",
    "         [\"living room\", 20.0], \n",
    "         [\"bedroom\", 10.75], \n",
    "         [\"bathroom\", 9.50]]\n",
    "\n",
    "for x in house:\n",
    "    print('the ' + x[0] + ' is ' + str(x[1]) + ' sqm.') # selecting elements in house through indexing"
   ]
  },
  {
   "cell_type": "code",
   "execution_count": 126,
   "metadata": {},
   "outputs": [
    {
     "name": "stdout",
     "output_type": "stream",
     "text": [
      "the captial of spain is madrid\n",
      "the captial of france is paris\n",
      "the captial of germany is berlin\n",
      "the captial of norway is oslo\n",
      "the captial of italy is rome\n",
      "the captial of poland is warsaw\n",
      "the captial of austria is vienna\n"
     ]
    }
   ],
   "source": [
    "# looping with dictionary\n",
    "\n",
    "europe = {'spain':'madrid', 'france':'paris', 'germany':'berlin',\n",
    "          'norway':'oslo', 'italy':'rome', 'poland':'warsaw', 'austria':'vienna' }\n",
    "\n",
    "for k,v in europe.items(): # dict use method .items()\n",
    "    print('the captial of ' + k + ' is '+ v)      "
   ]
  },
  {
   "cell_type": "code",
   "execution_count": 129,
   "metadata": {},
   "outputs": [
    {
     "name": "stdout",
     "output_type": "stream",
     "text": [
      "1\n",
      "2\n",
      "3\n",
      "4\n",
      "5\n",
      "6\n"
     ]
    }
   ],
   "source": [
    "# looping with numpy arrays\n",
    "\n",
    "num_loop = np.array([1,2,3,4,5,6])\n",
    "\n",
    "for x in np.nditer(num_loop): # numpy arrays use np.nditer for looping\n",
    "    print(x)"
   ]
  },
  {
   "cell_type": "code",
   "execution_count": 134,
   "metadata": {},
   "outputs": [
    {
     "name": "stdout",
     "output_type": "stream",
     "text": [
      "country\n",
      "capital\n",
      "area\n",
      "population\n"
     ]
    }
   ],
   "source": [
    "# looping with pandas dataframe\n",
    "\n",
    "for col in brics: # returns columns\n",
    "    print(col)\n"
   ]
  },
  {
   "cell_type": "code",
   "execution_count": 137,
   "metadata": {},
   "outputs": [
    {
     "name": "stdout",
     "output_type": "stream",
     "text": [
      "BR\n",
      "country         Brazil\n",
      "capital       Brasilia\n",
      "area             8.516\n",
      "population       200.4\n",
      "Name: BR, dtype: object\n",
      "RU\n",
      "country       Russia\n",
      "capital       Moscow\n",
      "area            17.1\n",
      "population     143.5\n",
      "Name: RU, dtype: object\n",
      "IN\n",
      "country           India\n",
      "capital       New Delhi\n",
      "area              3.286\n",
      "population       1252.0\n",
      "Name: IN, dtype: object\n",
      "CH\n",
      "country         China\n",
      "capital       Beijing\n",
      "area            9.597\n",
      "population     1357.0\n",
      "Name: CH, dtype: object\n",
      "SA\n",
      "country       South Africa\n",
      "capital           Pretoria\n",
      "area                 1.221\n",
      "population           52.98\n",
      "Name: SA, dtype: object\n"
     ]
    }
   ],
   "source": [
    "\n",
    "for lab,row in brics.iterrows(): # returns row label and row elements per col\n",
    "    print(lab)\n",
    "    print(row)"
   ]
  },
  {
   "cell_type": "code",
   "execution_count": 139,
   "metadata": {},
   "outputs": [
    {
     "name": "stdout",
     "output_type": "stream",
     "text": [
      "BR: Brasilia\n",
      "RU: Moscow\n",
      "IN: New Delhi\n",
      "CH: Beijing\n",
      "SA: Pretoria\n"
     ]
    }
   ],
   "source": [
    "for lab,row in brics.iterrows():\n",
    "    print(lab + ': ' + row['capital']) # selecting the print from the column to return per row/label"
   ]
  },
  {
   "cell_type": "code",
   "execution_count": 151,
   "metadata": {},
   "outputs": [
    {
     "name": "stdout",
     "output_type": "stream",
     "text": [
      "         country    capital    area  population  name_length       COUNTRY\n",
      "BR        Brazil   Brasilia   8.516      200.40          6.0        BRAZIL\n",
      "RU        Russia     Moscow  17.100      143.50          6.0        RUSSIA\n",
      "IN         India  New Delhi   3.286     1252.00          5.0         INDIA\n",
      "CH         China    Beijing   9.597     1357.00          5.0         CHINA\n",
      "SA  South Africa   Pretoria   1.221       52.98         12.0  SOUTH AFRICA\n"
     ]
    }
   ],
   "source": [
    "brics['COUNTRY'] = brics['country'].apply(str.upper) # adding new column from the column country applying upper case to string\n",
    "print(brics)"
   ]
  }
 ],
 "metadata": {
  "kernelspec": {
   "display_name": "Python 3.9.13 ('base')",
   "language": "python",
   "name": "python3"
  },
  "language_info": {
   "codemirror_mode": {
    "name": "ipython",
    "version": 3
   },
   "file_extension": ".py",
   "mimetype": "text/x-python",
   "name": "python",
   "nbconvert_exporter": "python",
   "pygments_lexer": "ipython3",
   "version": "3.9.13 (main, Aug 25 2022, 23:51:50) [MSC v.1916 64 bit (AMD64)]"
  },
  "orig_nbformat": 4,
  "vscode": {
   "interpreter": {
    "hash": "88279d2366fe020547cde40dd65aa0e3aa662a6ec1f3ca12d88834876c85e1a6"
   }
  }
 },
 "nbformat": 4,
 "nbformat_minor": 2
}
